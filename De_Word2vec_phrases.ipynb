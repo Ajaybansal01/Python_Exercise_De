{
 "cells": [
  {
   "cell_type": "code",
   "execution_count": 1,
   "id": "a871abc3",
   "metadata": {},
   "outputs": [],
   "source": [
    "import numpy as np\n",
    "import pandas as pd\n",
    "import difflib\n",
    "import matplotlib.pyplot as plt\n",
    "from sklearn.feature_extraction.text import TfidfVectorizer\n",
    "from sklearn.metrics.pairwise import cosine_similarity"
   ]
  },
  {
   "cell_type": "code",
   "execution_count": 86,
   "id": "fbf2f1c9",
   "metadata": {},
   "outputs": [],
   "source": [
    "dta=pd.read_csv('phrases.csv',encoding='unicode_escape')"
   ]
  },
  {
   "cell_type": "code",
   "execution_count": 87,
   "id": "a1246939",
   "metadata": {},
   "outputs": [],
   "source": [
    "dta['Index'] = range(1, len(dta) + 1)"
   ]
  },
  {
   "cell_type": "code",
   "execution_count": 90,
   "id": "ced4e564",
   "metadata": {},
   "outputs": [
    {
     "name": "stdout",
     "output_type": "stream",
     "text": [
      "['Phrases']\n"
     ]
    }
   ],
   "source": [
    "selected_features = ['Phrases']\n",
    "print(selected_features)"
   ]
  },
  {
   "cell_type": "code",
   "execution_count": 91,
   "id": "b8a5a39a",
   "metadata": {},
   "outputs": [],
   "source": [
    "for feature in selected_features:\n",
    "  dta[feature] = dta[feature].fillna('')"
   ]
  },
  {
   "cell_type": "code",
   "execution_count": 92,
   "id": "6ca75082",
   "metadata": {},
   "outputs": [],
   "source": [
    "combined_features = dta['Phrases']"
   ]
  },
  {
   "cell_type": "code",
   "execution_count": 93,
   "id": "62e2c58c",
   "metadata": {},
   "outputs": [
    {
     "name": "stdout",
     "output_type": "stream",
     "text": [
      "0                    how company compares to its peers?\n",
      "1     what is the detailed income statement breakdow...\n",
      "2                     world premium penetration in 2020\n",
      "3     How does the forecasted insurance premium pene...\n",
      "4     what are the total losses for companies in cou...\n",
      "5                  Insurance premiums market in Country\n",
      "6     How have the profit margins been for the airli...\n",
      "7     What is the complete profile of the top oil rigs?\n",
      "8                  what is company general information?\n",
      "9      How is the airline industry performing globally?\n",
      "10    how does economic profit for in country compar...\n",
      "11              most profitable insurance company India\n",
      "12    Give me a detailed breakup of the income and e...\n",
      "13                Show me all the oil rigs in the world\n",
      "14    What were the premiums earned by the Indian in...\n",
      "15    How much have premiums grown as compared to cl...\n",
      "16    Which are the best performing insurance firms ...\n",
      "17                What is the ROE of the Indian market?\n",
      "18    What profits were clocked by Cholamandalam in ...\n",
      "19    What is the premiums market share of the top 5...\n",
      "20    How will the Brazilian insurance market perfor...\n",
      "21    Which are the main distribution channels in In...\n",
      "22    What are the risks in the motor insurance segm...\n",
      "23    What is the demand potential of India for insu...\n",
      "24    How do premiums break down by lines of busines...\n",
      "25                   What is the share price of Qantas?\n",
      "26                 How many passengers are carried in ?\n",
      "27      Which are the aircrafts manufactured by Boeing?\n",
      "28          Kdo je nejv?tí konkurent ?eské Poji?ovny?\n",
      "29                          Which are the top airports?\n",
      "30              How many fatal air accidents till date?\n",
      "31    What is the flow of air traffic in North America?\n",
      "32                         What is the fleet of Airbus?\n",
      "33                       Airlines profitability Brazil?\n",
      "34                     Mergers among airline companies?\n",
      "35              Which are the most profitable airports?\n",
      "36    What has the capacity movement of airline comp...\n",
      "37                 Details of the Aban Abraham oil rig?\n",
      "38           How big is the airlines industry in China?\n",
      "39    How much money did Lloyd's of London make last...\n",
      "40    What was the Calendar year COR versus the Acci...\n",
      "41    Which Lloyd's syndicates owns the maximum numb...\n",
      "42             List key performance indicators for AXA?\n",
      "43             What are the most prominent legal cases?\n",
      "44             How does oil industry perform in Brazil?\n",
      "45    What is the main driver of growth in automobil...\n",
      "46    Which country in Europe is going to grow the m...\n",
      "47           What are the biggest acquisitions in 2020?\n",
      "48        How impacted is the airline industry in 2020?\n",
      "49    What are the most prominent bankruptcies in 2020?\n",
      "Name: Phrases, dtype: object\n"
     ]
    }
   ],
   "source": [
    "print(combined_features)"
   ]
  },
  {
   "cell_type": "code",
   "execution_count": 94,
   "id": "164819fe",
   "metadata": {},
   "outputs": [],
   "source": [
    "vectorizer = TfidfVectorizer()"
   ]
  },
  {
   "cell_type": "code",
   "execution_count": 95,
   "id": "e443c6cd",
   "metadata": {},
   "outputs": [],
   "source": [
    "feature_vectors = vectorizer.fit_transform(combined_features)"
   ]
  },
  {
   "cell_type": "code",
   "execution_count": 96,
   "id": "99a536b2",
   "metadata": {},
   "outputs": [
    {
     "name": "stdout",
     "output_type": "stream",
     "text": [
      "  (0, 133)\t0.4434219219633911\n",
      "  (0, 95)\t0.4434219219633911\n",
      "  (0, 166)\t0.36323941516814995\n",
      "  (0, 49)\t0.4903256816524265\n",
      "  (0, 46)\t0.41014317485718527\n",
      "  (0, 84)\t0.2572439067170238\n",
      "  (1, 21)\t0.3931004592032097\n",
      "  (1, 126)\t0.21521511596637974\n",
      "  (1, 31)\t0.43468137471247725\n",
      "  (1, 161)\t0.43468137471247725\n",
      "  (1, 87)\t0.3931004592032097\n",
      "  (1, 55)\t0.3931004592032097\n",
      "  (1, 163)\t0.144132071398556\n",
      "  (1, 94)\t0.22805074095104927\n",
      "  (1, 174)\t0.19854861189249312\n",
      "  (2, 0)\t0.3840889727551636\n",
      "  (2, 86)\t0.23065797279765857\n",
      "  (2, 134)\t0.5161629460395745\n",
      "  (2, 140)\t0.5161629460395745\n",
      "  (2, 177)\t0.5161629460395745\n",
      "  (3, 47)\t0.3039706660302439\n",
      "  (3, 170)\t0.33612371567846516\n",
      "  (3, 52)\t0.24900466460522586\n",
      "  (3, 93)\t0.2168516149570046\n",
      "  (3, 74)\t0.33612371567846516\n",
      "  :\t:\n",
      "  (46, 94)\t0.2072457554425068\n",
      "  (46, 166)\t0.2926398839286317\n",
      "  (47, 5)\t0.5531699585575293\n",
      "  (47, 26)\t0.5531699585575293\n",
      "  (47, 16)\t0.31933587028602145\n",
      "  (47, 0)\t0.3722512116076045\n",
      "  (47, 86)\t0.223549010597644\n",
      "  (47, 163)\t0.1834206308358339\n",
      "  (47, 174)\t0.25267042436514303\n",
      "  (48, 85)\t0.5468614802627977\n",
      "  (48, 9)\t0.4286444200071616\n",
      "  (48, 91)\t0.36800597259509965\n",
      "  (48, 0)\t0.36800597259509965\n",
      "  (48, 86)\t0.22099960591767656\n",
      "  (48, 163)\t0.1813288594904572\n",
      "  (48, 94)\t0.2869047836567883\n",
      "  (48, 84)\t0.2869047836567883\n",
      "  (49, 22)\t0.5245285461177558\n",
      "  (49, 148)\t0.47435299587075486\n",
      "  (49, 118)\t0.3885773261737344\n",
      "  (49, 16)\t0.302801656476714\n",
      "  (49, 0)\t0.35297720672371496\n",
      "  (49, 86)\t0.21197434116019567\n",
      "  (49, 163)\t0.17392368354782206\n",
      "  (49, 174)\t0.23958793909344508\n"
     ]
    }
   ],
   "source": [
    "print(feature_vectors)"
   ]
  },
  {
   "cell_type": "code",
   "execution_count": 97,
   "id": "114ac174",
   "metadata": {},
   "outputs": [],
   "source": [
    "similarity = cosine_similarity(feature_vectors)"
   ]
  },
  {
   "cell_type": "code",
   "execution_count": 98,
   "id": "46db03d7",
   "metadata": {},
   "outputs": [
    {
     "name": "stdout",
     "output_type": "stream",
     "text": [
      "[[1.         0.         0.         ... 0.         0.07380451 0.        ]\n",
      " [0.         1.         0.         ... 0.07660416 0.09156415 0.07263783]\n",
      " [0.         0.         1.         ... 0.19454095 0.19232236 0.18446822]\n",
      " ...\n",
      " [0.         0.07660416 0.19454095 ... 1.         0.21965437 0.36791626]\n",
      " [0.07380451 0.09156415 0.19232236 ... 0.21965437 1.         0.20828135]\n",
      " [0.         0.07263783 0.18446822 ... 0.36791626 0.20828135 1.        ]]\n"
     ]
    }
   ],
   "source": [
    "print(similarity)"
   ]
  },
  {
   "cell_type": "code",
   "execution_count": 99,
   "id": "d0499075",
   "metadata": {},
   "outputs": [
    {
     "name": "stdout",
     "output_type": "stream",
     "text": [
      " Enter input for which  closest phrase needs to be found : Mergers among airline companies?\n"
     ]
    }
   ],
   "source": [
    "inp = input(' Enter input for which  closest phrase needs to be found : ')"
   ]
  },
  {
   "cell_type": "code",
   "execution_count": 100,
   "id": "faf78abe",
   "metadata": {},
   "outputs": [],
   "source": [
    "list_of_all_titles = dta['Phrases'].tolist()"
   ]
  },
  {
   "cell_type": "code",
   "execution_count": 101,
   "id": "d0061e12",
   "metadata": {},
   "outputs": [],
   "source": [
    "find_close_match = difflib.get_close_matches(inp, list_of_all_titles)"
   ]
  },
  {
   "cell_type": "code",
   "execution_count": 102,
   "id": "3d4e3651",
   "metadata": {},
   "outputs": [],
   "source": [
    "close_match = find_close_match[0]"
   ]
  },
  {
   "cell_type": "code",
   "execution_count": 106,
   "id": "5498e025",
   "metadata": {},
   "outputs": [],
   "source": [
    "index_of_phrase = dta[dta.Phrases == close_match]['Index'].values[0]"
   ]
  },
  {
   "cell_type": "code",
   "execution_count": 107,
   "id": "eb09239d",
   "metadata": {},
   "outputs": [
    {
     "name": "stdout",
     "output_type": "stream",
     "text": [
      "35\n"
     ]
    }
   ],
   "source": [
    "print(index_of)"
   ]
  },
  {
   "cell_type": "code",
   "execution_count": 108,
   "id": "a1e97e20",
   "metadata": {},
   "outputs": [
    {
     "name": "stdout",
     "output_type": "stream",
     "text": [
      "[(0, 0.0), (1, 0.02722939253424601), (2, 0.0), (3, 0.02105552509658867), (4, 0.09557889111181134), (5, 0.0), (6, 0.06036982976713376), (7, 0.054416452660766605), (8, 0.0), (9, 0.03326808549046591), (10, 0.0), (11, 0.4573346869936476), (12, 0.019837092922951924), (13, 0.052609924961415255), (14, 0.051723896967971666), (15, 0.0), (16, 0.23524859072650825), (17, 0.06663084430675138), (18, 0.0), (19, 0.056153405309442184), (20, 0.02162089848895459), (21, 0.2463878851013059), (22, 0.13478425908711963), (23, 0.030845642709456524), (24, 0.0), (25, 0.03275793445068948), (26, 0.10021663258718463), (27, 0.24215447969574774), (28, 0.0), (29, 0.6285500260592929), (30, 0.0), (31, 0.025965771283882243), (32, 0.03717808840947124), (33, 0.0), (34, 0.0), (35, 1.0000000000000002), (36, 0.044980296564918976), (37, 0.028100378142659553), (38, 0.031414344752634424), (39, 0.0), (40, 0.03465142302610856), (41, 0.12569799271360688), (42, 0.0), (43, 0.2819493145001968), (44, 0.0), (45, 0.02441908583883064), (46, 0.2501850826935917), (47, 0.13968448185812293), (48, 0.0342565998319668), (49, 0.29646325749128477)]\n"
     ]
    }
   ],
   "source": [
    "similarity_score = list(enumerate(similarity[index_of_phrase]))\n",
    "print(similarity_score)"
   ]
  },
  {
   "cell_type": "code",
   "execution_count": 109,
   "id": "239da1b2",
   "metadata": {},
   "outputs": [
    {
     "data": {
      "text/plain": [
       "50"
      ]
     },
     "execution_count": 109,
     "metadata": {},
     "output_type": "execute_result"
    }
   ],
   "source": [
    "len(similarity_score)"
   ]
  },
  {
   "cell_type": "code",
   "execution_count": 110,
   "id": "8f5c8549",
   "metadata": {},
   "outputs": [
    {
     "name": "stdout",
     "output_type": "stream",
     "text": [
      "[(35, 1.0000000000000002), (29, 0.6285500260592929), (11, 0.4573346869936476), (49, 0.29646325749128477), (43, 0.2819493145001968), (46, 0.2501850826935917), (21, 0.2463878851013059), (27, 0.24215447969574774), (16, 0.23524859072650825), (47, 0.13968448185812293), (22, 0.13478425908711963), (41, 0.12569799271360688), (26, 0.10021663258718463), (4, 0.09557889111181134), (17, 0.06663084430675138), (6, 0.06036982976713376), (19, 0.056153405309442184), (7, 0.054416452660766605), (13, 0.052609924961415255), (14, 0.051723896967971666), (36, 0.044980296564918976), (32, 0.03717808840947124), (40, 0.03465142302610856), (48, 0.0342565998319668), (9, 0.03326808549046591), (25, 0.03275793445068948), (38, 0.031414344752634424), (23, 0.030845642709456524), (37, 0.028100378142659553), (1, 0.02722939253424601), (31, 0.025965771283882243), (45, 0.02441908583883064), (20, 0.02162089848895459), (3, 0.02105552509658867), (12, 0.019837092922951924), (0, 0.0), (2, 0.0), (5, 0.0), (8, 0.0), (10, 0.0), (15, 0.0), (18, 0.0), (24, 0.0), (28, 0.0), (30, 0.0), (33, 0.0), (34, 0.0), (39, 0.0), (42, 0.0), (44, 0.0)]\n"
     ]
    }
   ],
   "source": [
    "sorted_similar_Phrase = sorted(similarity_score, key = lambda x:x[1], reverse = True) \n",
    "print(sorted_similar_Phrase)"
   ]
  },
  {
   "cell_type": "code",
   "execution_count": 114,
   "id": "5f5d61d4",
   "metadata": {},
   "outputs": [
    {
     "name": "stdout",
     "output_type": "stream",
     "text": [
      "Closest Phrases suggested for you : \n",
      "\n",
      "1 . Which are the most profitable airports?   1.0\n",
      "2 . Which are the top airports?   0.62855\n",
      "3 . most profitable insurance company India   0.4573347\n",
      "4 . What are the most prominent bankruptcies in 2020?   0.2964633\n",
      "5 . What are the most prominent legal cases?   0.2819493\n",
      "6 . Which country in Europe is going to grow the most in 2020?   0.2501851\n",
      "7 . Which are the main distribution channels in India?   0.2463879\n",
      "8 . Which are the aircrafts manufactured by Boeing?   0.2421545\n",
      "9 . Which are the best performing insurance firms in India?   0.2352486\n",
      "10 . What are the biggest acquisitions in 2020?   0.1396845\n",
      "11 . What are the risks in the motor insurance segment in India?   0.1347843\n",
      "12 . Which Lloyd's syndicates owns the maximum number of assets?   0.125698\n",
      "13 . How many passengers are carried in ?   0.1002166\n",
      "14 . what are the total losses for companies in country  non life market?   0.0955789\n",
      "15 . What is the ROE of the Indian market?   0.0666308\n",
      "16 . How have the profit margins been for the airlines industry through the years, by regions?   0.0603698\n",
      "17 . What is the premiums market share of the top 5 companies in India?   0.0561534\n",
      "18 . What is the complete profile of the top oil rigs?   0.0544165\n",
      "19 . Show me all the oil rigs in the world   0.0526099\n",
      "20 . What were the premiums earned by the Indian insurance industry in 2020?   0.0517239\n",
      "21 . What has the capacity movement of airline companies been over the years?   0.0449803\n",
      "22 . What is the fleet of Airbus?   0.0371781\n",
      "23 . What was the Calendar year COR versus the Accident year COR for Lloyd's?   0.0346514\n",
      "24 . How impacted is the airline industry in 2020?   0.0342566\n",
      "25 . How is the airline industry performing globally?   0.0332681\n",
      "26 . What is the share price of Qantas?   0.0327579\n",
      "27 . How big is the airlines industry in China?   0.0314143\n",
      "28 . What is the demand potential of India for insurance?   0.0308456\n",
      "29 . Details of the Aban Abraham oil rig?   0.0281004\n"
     ]
    }
   ],
   "source": [
    "print('Closest Phrases suggested for you : \\n')\n",
    "\n",
    "i = 1\n",
    "\n",
    "for Phr in sorted_similar_Phrase:\n",
    "  index = Phr[0]\n",
    "  title_from_index = dta[dta.index==index]['Phrases'].values[0]\n",
    "  if (i<30):\n",
    "    print(i, '.',title_from_index,\" \",round(sorted_similar_Phrase[i-1][1],7))\n",
    "    i+=1"
   ]
  },
  {
   "cell_type": "code",
   "execution_count": null,
   "id": "1794c89e",
   "metadata": {},
   "outputs": [],
   "source": []
  },
  {
   "cell_type": "code",
   "execution_count": null,
   "id": "c45d7943",
   "metadata": {},
   "outputs": [],
   "source": []
  },
  {
   "cell_type": "code",
   "execution_count": null,
   "id": "e6176e89",
   "metadata": {},
   "outputs": [],
   "source": []
  },
  {
   "cell_type": "code",
   "execution_count": null,
   "id": "3c43da2d",
   "metadata": {},
   "outputs": [],
   "source": []
  }
 ],
 "metadata": {
  "kernelspec": {
   "display_name": "Python 3 (ipykernel)",
   "language": "python",
   "name": "python3"
  },
  "language_info": {
   "codemirror_mode": {
    "name": "ipython",
    "version": 3
   },
   "file_extension": ".py",
   "mimetype": "text/x-python",
   "name": "python",
   "nbconvert_exporter": "python",
   "pygments_lexer": "ipython3",
   "version": "3.9.7"
  }
 },
 "nbformat": 4,
 "nbformat_minor": 5
}
